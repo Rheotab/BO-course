{
 "cells": [
  {
   "cell_type": "markdown",
   "id": "52eb587b",
   "metadata": {},
   "source": [
    "### Bayesian optimization "
   ]
  },
  {
   "cell_type": "code",
   "execution_count": 10,
   "id": "d27c2225",
   "metadata": {},
   "outputs": [],
   "source": [
    "import scipy.optimize\n",
    "import numpy as np\n",
    "import pandas as pd\n",
    "from sklearn import ensemble\n",
    "from sklearn.preprocessing import OneHotEncoder\n",
    "import sklearn\n",
    "import GPy\n",
    "import matplotlib.pyplot as plt"
   ]
  },
  {
   "cell_type": "code",
   "execution_count": 11,
   "id": "e1248d2f",
   "metadata": {},
   "outputs": [
    {
     "data": {
      "text/plain": [
       "array([[4.4408921e-16]])"
      ]
     },
     "execution_count": 11,
     "metadata": {},
     "output_type": "execute_result"
    }
   ],
   "source": [
    "class Toy_function:\n",
    "    '''\n",
    "    This function is called Ackley, it's a standard benchmark function for optimizers.\n",
    "    '''\n",
    "    def __init__(self, ndim):\n",
    "        self.ndim = ndim\n",
    "        self.a = 20\n",
    "        self.b = 0.2\n",
    "        self.c = 2 * np.pi\n",
    "        self.domain = [[-32.768, 32.768] for ii in range(self.ndim)]\n",
    "        \n",
    "    def f(self, X):\n",
    "        if not isinstance(X, np.ndarray):\n",
    "            raise TypeError(\"X have to be a 1D numpy array !\")\n",
    "        if X.ndim == 2 and X.shape[0] != 1:\n",
    "            raise ValueError(\"Pass input values one by one\")\n",
    "        if X.ndim == 2:\n",
    "            X = X.reshape(-1)\n",
    "            \n",
    "        if X.shape[0] != self.ndim:\n",
    "            raise ValueError\n",
    "        res = - self.a * np.exp(-self.b * np.sqrt((1/self.ndim) * np.sum(X**2))) - np.exp((1/self.ndim) * np.sum(np.cos(self.c * X))) + self.a + np.exp(1)\n",
    "        return np.array(res).reshape(-1, 1)\n",
    "          \n",
    "function_to_optimize = Toy_function(ndim=2)\n",
    "function_to_optimize.f(np.array([[0, 0]]).reshape(-1, 2))"
   ]
  },
  {
   "cell_type": "markdown",
   "id": "f8f6f8ce",
   "metadata": {},
   "source": [
    "### Random Initialization"
   ]
  },
  {
   "cell_type": "code",
   "execution_count": 14,
   "id": "c38710c2",
   "metadata": {},
   "outputs": [],
   "source": [
    "## Code Here\n",
    "# nb_init = 5\n",
    "# function = Toy_function(ndim=2)\n",
    "# f = function.f\n",
    "# domain = function.domain\n",
    "\n",
    "def draw_random(f, domain, nb_init=5):\n",
    "    X_init = []\n",
    "    for ii in range(nb_init):\n",
    "        x = []\n",
    "        for var_domain in domain:\n",
    "            x.append(np.random.uniform(var_domain[0], var_domain[1]))\n",
    "        X_init.append(x)\n",
    "    X_init = np.array(X_init)\n",
    "    Y_init = []\n",
    "    for xx in X_init:\n",
    "        Y_init.append(f(xx))\n",
    "#    Y_init = f(X_init)\n",
    "    Y_init = np.array(Y_init).reshape((-1, 1))\n",
    "    return X_init, Y_init\n",
    "\n",
    "func_class = Toy_function(ndim=2)\n",
    "f = func_class.f\n",
    "domain = func_class.domain\n",
    "nb_init = 5\n",
    "X_init, Y_init = draw_random(f, domain, nb_init)\n",
    "\n",
    "#X_init, Y_init = draw_random_init(f, domain, nb_init)"
   ]
  },
  {
   "cell_type": "markdown",
   "id": "80eaf784",
   "metadata": {},
   "source": [
    "### Create your surrogate model"
   ]
  },
  {
   "cell_type": "code",
   "execution_count": 15,
   "id": "75f9bd70",
   "metadata": {},
   "outputs": [],
   "source": [
    "## Code here\n",
    "## See GPy GPRegression documentation\n",
    "## Hint :\n",
    "## - You need X, Y, kernel \n",
    "## - GP supports unnormalized data but can mislead the fitting process\n",
    "## - A standard kernel for a smooth regression is Matern52, see GPy.kern.Matern52\n",
    "## - You need to optimize hyper parameters and following the log marginal likelihood, see model.optimize \n",
    "class My_model:\n",
    "    def __init__(self, input_dim, num_restarts_optim_model=10):\n",
    "        self.standard_scaler_Y = sklearn.preprocessing.StandardScaler()\n",
    "        self.standard_scaler_X = sklearn.preprocessing.StandardScaler()\n",
    "        self.input_dim = input_dim\n",
    "        self.model = None\n",
    "        self.kernel = GPy.kern.Matern52(input_dim=self.input_dim)\n",
    "        self.num_restarts = num_restarts_optim_model\n",
    "    \n",
    "    def fit(self, X, Y):\n",
    "        self.standard_scaler_Y = self.standard_scaler_Y.fit(Y)\n",
    "        self.standard_scaler_X = self.standard_scaler_X.fit(X)\n",
    "        X_scaled = self.standard_scaler_X.transform(X)\n",
    "        Y_scaled = self.standard_scaler_Y.transform(Y)\n",
    "        self.model = GPy.models.GPRegression(X_scaled, Y_scaled, self.kernel)\n",
    "        self.model.optimize_restarts(self.num_restarts, verbose=False)\n",
    "    \n",
    "    def predict(self, X):\n",
    "        X_scaled = self.standard_scaler_X.transform(X)\n",
    "        mu, sig = self.model.predict(X_scaled)\n",
    "        return mu, sig\n",
    "    \n",
    "    def get_model(self):\n",
    "        return self.model\n",
    "    \n",
    "    def get_kernel(self):\n",
    "\n",
    "        return self.kernel"
   ]
  },
  {
   "cell_type": "code",
   "execution_count": 16,
   "id": "126e5354",
   "metadata": {},
   "outputs": [
    {
     "data": {
      "text/html": [
       "<style type=\"text/css\">\n",
       ".pd{\n",
       "    font-family: \"Courier New\", Courier, monospace !important;\n",
       "    width: 100%;\n",
       "    padding: 3px;\n",
       "}\n",
       "</style>\n",
       "\n",
       "<p class=pd>\n",
       "<b>Model</b>: GP regression<br>\n",
       "<b>Objective</b>: 5.459999685448825<br>\n",
       "<b>Number of Parameters</b>: 3<br>\n",
       "<b>Number of Optimization Parameters</b>: 3<br>\n",
       "<b>Updates</b>: True<br>\n",
       "</p>\n",
       "<style type=\"text/css\">\n",
       ".tg  {font-family:\"Courier New\", Courier, monospace !important;padding:2px 3px;word-break:normal;border-collapse:collapse;border-spacing:0;border-color:#DCDCDC;margin:0px auto;width:100%;}\n",
       ".tg td{font-family:\"Courier New\", Courier, monospace !important;font-weight:bold;color:#444;background-color:#F7FDFA;border-style:solid;border-width:1px;overflow:hidden;word-break:normal;border-color:#DCDCDC;}\n",
       ".tg th{font-family:\"Courier New\", Courier, monospace !important;font-weight:normal;color:#fff;background-color:#26ADE4;border-style:solid;border-width:1px;overflow:hidden;word-break:normal;border-color:#DCDCDC;}\n",
       ".tg .tg-left{font-family:\"Courier New\", Courier, monospace !important;font-weight:normal;text-align:left;}\n",
       ".tg .tg-center{font-family:\"Courier New\", Courier, monospace !important;font-weight:normal;text-align:center;}\n",
       ".tg .tg-right{font-family:\"Courier New\", Courier, monospace !important;font-weight:normal;text-align:right;}\n",
       "</style>\n",
       "<table class=\"tg\"><tr><th><b>  GP_regression.         </b></th><th><b>                value</b></th><th><b>constraints</b></th><th><b>priors</b></th></tr>\n",
       "<tr><td class=tg-left>  Mat52.variance         </td><td class=tg-right>   1.7104718844952183</td><td class=tg-center>    +ve    </td><td class=tg-center>      </td></tr>\n",
       "<tr><td class=tg-left>  Mat52.lengthscale      </td><td class=tg-right>     2.66170713746036</td><td class=tg-center>    +ve    </td><td class=tg-center>      </td></tr>\n",
       "<tr><td class=tg-left>  Gaussian_noise.variance</td><td class=tg-right>8.908542928997452e-10</td><td class=tg-center>    +ve    </td><td class=tg-center>      </td></tr>\n",
       "</table>"
      ],
      "text/plain": [
       "<GPy.models.gp_regression.GPRegression at 0x16970b5e0>"
      ]
     },
     "execution_count": 16,
     "metadata": {},
     "output_type": "execute_result"
    }
   ],
   "source": [
    "mymodel = My_model(input_dim=len(domain))\n",
    "mymodel.fit(X_init, Y_init)\n",
    "mymodel.get_model()"
   ]
  },
  {
   "cell_type": "markdown",
   "id": "f5f29fa4",
   "metadata": {},
   "source": [
    "### Create your acqusition function"
   ]
  },
  {
   "cell_type": "code",
   "execution_count": 17,
   "id": "33829f55",
   "metadata": {},
   "outputs": [],
   "source": [
    "## Code here\n",
    "## Minimization\n",
    "class UCB_acquisition:\n",
    "    def __init__(self, model, exploration_param=0.05):\n",
    "        self.exploration = exploration_param\n",
    "        self.model = model\n",
    "    def acq(self, X):\n",
    "        if X.ndim != 2:\n",
    "            X = X.reshape(1, -1)\n",
    "        mu, sigma = self.model.predict(X)\n",
    "        return - mu - self.exploration * sigma"
   ]
  },
  {
   "cell_type": "markdown",
   "id": "7d6b52ba",
   "metadata": {},
   "source": [
    "### Optimize your acquisition function"
   ]
  },
  {
   "cell_type": "code",
   "execution_count": 19,
   "id": "3db2f756",
   "metadata": {},
   "outputs": [],
   "source": [
    "## Code here\n",
    "def optimize_acquisition(acq, domain):\n",
    "    \n",
    "    # Setup f_to_optimize with a wrapper for convenience\n",
    "    def f_wrapper(acq_obj):\n",
    "        def f(X):\n",
    "            return - acq_obj.acq(X).reshape(-1) # maximize <==> minimize the negative\n",
    "        return f\n",
    "    \n",
    "    f_to_optim = f_wrapper(acq)\n",
    "    \n",
    "    # Scipy use local optimization ==> We need to introduce randomness\n",
    "    nb_x0 = 5\n",
    "\n",
    "    X_0 = []\n",
    "    for ii in range(nb_x0):\n",
    "        x = []\n",
    "        for b in domain:\n",
    "            x.append(np.random.uniform(b[0], b[1]))\n",
    "        X_0.append(x)\n",
    "\n",
    "    res = []\n",
    "    for x0 in X_0:\n",
    "        x0 = np.array(x0).reshape(1, -1)\n",
    "       # print(str(x0) + \"----\" + str(model.predict(x0)) + \"-----\" + str(f_to_optim(x0)))\n",
    "        r = scipy.optimize.minimize(f_to_optim, x0=x0, method=\"L-BFGS-B\", bounds=domain)\n",
    "        # we only want partial information \n",
    "        \n",
    "        x_opt = r['x']\n",
    "        f_acq_opt = r['fun']\n",
    "        if r['status'] != 0:\n",
    "            print(\"Something went wrong during acqusition optimization\")\n",
    "        res.append((x_opt, f_acq_opt))\n",
    "    res.sort(key=lambda x:x[1])\n",
    "    x_opt_final = res[0][0].reshape(1, -1)\n",
    "    f_opt_final = - res[0][1]\n",
    "    return x_opt_final, f_opt_final\n",
    "        \n",
    "\n",
    "\n",
    "\n",
    "acquisition = UCB_acquisition(mymodel, exploration_param = 0.05)\n",
    "res = optimize_acquisition(acquisition, domain)"
   ]
  },
  {
   "cell_type": "markdown",
   "id": "a851486f",
   "metadata": {},
   "source": [
    "### All together : Bayesian optimization algorithm"
   ]
  },
  {
   "cell_type": "code",
   "execution_count": 8,
   "id": "67317229",
   "metadata": {},
   "outputs": [],
   "source": [
    "## Code here\n",
    "def bayesian_optimization(func, domain, budget=50):\n",
    "    X_init, Y_init = draw_random_init(func, domain)\n",
    "    X = X_init.copy()\n",
    "    Y = Y_init.copy()\n",
    "    \n",
    "    for num_iter in range(budget):\n",
    "        mymodel = My_model(input_dim=len(domain))\n",
    "        mymodel.fit(X, Y)\n",
    "        myacq = UCB_acquisition(mymodel)\n",
    "        x_opt, f_acq_opt = optimize_acquisition(myacq, domain)\n",
    "        new_y = func(x_opt)\n",
    "        X = np.append(X, x_opt, axis=0)\n",
    "        Y = np.append(Y, new_y, axis=0)\n",
    "    return X, Y\n",
    "\n",
    "\n",
    "function = Toy_function(ndim=2)\n",
    "f = function.f\n",
    "domain = function.domain\n",
    "\n",
    "X, Y = bayesian_optimization(f, domain)"
   ]
  },
  {
   "cell_type": "code",
   "execution_count": 9,
   "id": "7e1afe11",
   "metadata": {},
   "outputs": [
    {
     "data": {
      "image/png": "[encoded data removed]",
      "text/plain": [
       "<Figure size 432x288 with 1 Axes>"
      ]
     },
     "metadata": {
      "needs_background": "light"
     },
     "output_type": "display_data"
    }
   ],
   "source": [
    "def plot_best_score_evolution(Y):\n",
    "    best_y = []\n",
    "    for yy in Y:\n",
    "        if len(best_y) == 0:\n",
    "            best_y.append(yy)\n",
    "            continue\n",
    "        if yy < best_y[len(best_y) - 1]:\n",
    "            best_y.append(yy)\n",
    "        else:\n",
    "            best_y.append(best_y[len(best_y) - 1])\n",
    "    \n",
    "    plt.plot(best_y)\n",
    "    plt.show()\n",
    "plot_best_score_evolution(Y)"
   ]
  },
  {
   "cell_type": "code",
   "execution_count": null,
   "id": "1196b2b8",
   "metadata": {},
   "outputs": [],
   "source": []
  },
  {
   "cell_type": "code",
   "execution_count": null,
   "id": "c368da47",
   "metadata": {},
   "outputs": [],
   "source": []
  },
  {
   "cell_type": "code",
   "execution_count": null,
   "id": "806ca191",
   "metadata": {},
   "outputs": [],
   "source": []
  },
  {
   "cell_type": "code",
   "execution_count": null,
   "id": "abc32df4",
   "metadata": {},
   "outputs": [],
   "source": []
  },
  {
   "cell_type": "code",
   "execution_count": null,
   "id": "947ad48c",
   "metadata": {},
   "outputs": [],
   "source": []
  },
  {
   "cell_type": "code",
   "execution_count": 13,
   "id": "0aab47df",
   "metadata": {},
   "outputs": [],
   "source": [
    "class Model_to_optimize():\n",
    "    \n",
    "    def __init__(self):\n",
    "        self.list_names_param = [\n",
    "            \"min_samples_split\",\n",
    "            \"min_samples_leaf\",\n",
    "            \"min_weight_fraction_leaf\",\n",
    "            \"max_features\",\n",
    "            \"max_samples\"]\n",
    "        self.domain = [\n",
    "            (10e-5, 1 - 10e-5), \n",
    "            (10e-5, 0.5),\n",
    "            (10e-5, 0.5),\n",
    "            (10e-5, 1 - 10e-5), \n",
    "            (10e-3, 1 - 10e-5) #--\n",
    "        ]\n",
    "        df = pd.read_csv(\"./laptop_price_clean.csv\")\n",
    "        X = df.drop(columns=['Price_euros'])\n",
    "        self.X_data = pd.get_dummies(X)\n",
    "        self.Y_data = np.log(df['Price_euros'])\n",
    "\n",
    "    '''\n",
    "        Parameters_array : numpy array containing 0+ values correspind to the parameters of the RF (if Ø or None, default values are used)\n",
    "        Return: sklearn readable parameters\n",
    "    '''\n",
    "    def preprocess_input_parameters(self, parameters_array):\n",
    "        self.params = {}\n",
    "        for ii in range(parameters_array.shape[0]):\n",
    "            if parameters_array[ii] is not None and (parameters_array[ii] < self.domain[ii][0] or parameters_array[ii] > self.domain[ii][1]):\n",
    "                raise ValueError(\"parameter not in bound\")\n",
    "            if parameters_array[ii] is not None:\n",
    "                self.params[self.list_names_param[ii]] = parameters_array[ii]\n",
    "\n",
    "    def pipeline(self, X_data):\n",
    "        pass\n",
    "    \n",
    "    def f(self, X):\n",
    "        if not isinstance(X, np.ndarray):\n",
    "            raise TypeError(\"X have to be a 1D numpy array !\")\n",
    "        if X.ndim == 2 and X.shape[0] != 1:\n",
    "            raise ValueError(\"Pass input values one by one\")\n",
    "        if X.ndim == 2:\n",
    "            X = X.reshape(-1)\n",
    "            \n",
    "        self.preprocess_input_parameters(X)\n",
    "        kf = sklearn.model_selection.KFold(n_splits=5)\n",
    "        res = []\n",
    "        for train_index, test_index in kf.split(self.X_data):\n",
    "            \n",
    "            X_train = self.X_data.iloc[train_index]\n",
    "            X_test = self.X_data.iloc[test_index]\n",
    "            \n",
    "            Y_train = self.Y_data.iloc[train_index]\n",
    "            Y_test = self.Y_data.iloc[test_index]\n",
    "            \n",
    "            model = ensemble.RandomForestRegressor(**self.params)\n",
    "            model.fit(X_train, Y_train)\n",
    "            Y_pred = model.predict(X_test)\n",
    "            try:\n",
    "                metric = sklearn.metrics.r2_score(Y_test, Y_pred)\n",
    "                res.append(metric)\n",
    "            except ValueError:\n",
    "                print(self.params)\n",
    "\n",
    "        score = np.mean(res) #- np.std(res) \n",
    "        # Maximize (mean(R2 score) - std(R2 score)) <==> Minimize it's negative\n",
    "        return np.array( - score).reshape(-1, 1)\n"
   ]
  },
  {
   "cell_type": "code",
   "execution_count": 19,
   "id": "68955315",
   "metadata": {},
   "outputs": [
    {
     "name": "stdout",
     "output_type": "stream",
     "text": [
      "Something went wrong during acqusition optimization\n"
     ]
    }
   ],
   "source": [
    "model_to_optimize = Model_to_optimize()\n",
    "domain = model_to_optimize.domain\n",
    "\n",
    "X, Y = bayesian_optimization(model_to_optimize.f, domain)"
   ]
  },
  {
   "cell_type": "code",
   "execution_count": 20,
   "id": "37eb41d8",
   "metadata": {},
   "outputs": [
    {
     "data": {
      "image/png": "[encoded data removed]",
      "text/plain": [
       "<Figure size 432x288 with 1 Axes>"
      ]
     },
     "metadata": {
      "needs_background": "light"
     },
     "output_type": "display_data"
    }
   ],
   "source": [
    "plot_best_score_evolution(Y)"
   ]
  },
  {
   "cell_type": "code",
   "execution_count": null,
   "id": "94d0d078",
   "metadata": {},
   "outputs": [],
   "source": []
  }
 ],
 "metadata": {
  "kernelspec": {
   "display_name": "Python 3",
   "language": "python",
   "name": "python3"
  },
  "language_info": {
   "codemirror_mode": {
    "name": "ipython",
    "version": 3
   },
   "file_extension": ".py",
   "mimetype": "text/x-python",
   "name": "python",
   "nbconvert_exporter": "python",
   "pygments_lexer": "ipython3",
   "version": "3.8.11"
  }
 },
 "nbformat": 4,
 "nbformat_minor": 5
}
